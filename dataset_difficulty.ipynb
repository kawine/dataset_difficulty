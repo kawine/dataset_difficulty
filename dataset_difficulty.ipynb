{
 "cells": [
  {
   "cell_type": "markdown",
   "metadata": {},
   "source": [
    "# 📊 Dataset difficulty - Jupyter notebook"
   ]
  },
  {
   "cell_type": "markdown",
   "metadata": {},
   "source": [
    "## Augmentation"
   ]
  },
  {
   "cell_type": "markdown",
   "metadata": {},
   "source": [
    "standard transformation only creates new columens *sentence1* and *sentence 2* for standardization, null transformation pass empty strings to these variables"
   ]
  },
  {
   "cell_type": "code",
   "execution_count": 1,
   "metadata": {},
   "outputs": [],
   "source": [
    "%load_ext autoreload\n",
    "%autoreload 2"
   ]
  },
  {
   "cell_type": "code",
   "execution_count": 2,
   "metadata": {},
   "outputs": [
    {
     "name": "stderr",
     "output_type": "stream",
     "text": [
      "2023-07-28 18:06:25.126723: E tensorflow/stream_executor/cuda/cuda_driver.cc:271] failed call to cuInit: CUDA_ERROR_NO_DEVICE: no CUDA-capable device is detected\n",
      "2023-07-28 18:06:25.126782: I tensorflow/stream_executor/cuda/cuda_diagnostics.cc:156] kernel driver does not appear to be running on this host (n13): /proc/driver/nvidia/version does not exist\n",
      "Found cached dataset csfever_nli (/home/mlynatom/.cache/huggingface/datasets/ctu-aic___csfever_nli/default/0.0.0/df4742c18cf2a45d4c0a64f1dede3a87613d6ef4c866af281749bb3061687700)\n",
      "Found cached dataset csfever_nli (/home/mlynatom/.cache/huggingface/datasets/ctu-aic___csfever_nli/default/0.0.0/df4742c18cf2a45d4c0a64f1dede3a87613d6ef4c866af281749bb3061687700)\n",
      "Found cached dataset csfever_nli (/home/mlynatom/.cache/huggingface/datasets/ctu-aic___csfever_nli/default/0.0.0/df4742c18cf2a45d4c0a64f1dede3a87613d6ef4c866af281749bb3061687700)\n",
      "WARNING:datasets.arrow_dataset:Loading cached processed dataset at /home/mlynatom/.cache/huggingface/datasets/ctu-aic___csfever_nli/default/0.0.0/df4742c18cf2a45d4c0a64f1dede3a87613d6ef4c866af281749bb3061687700/cache-989aa0ea875fb2d4.arrow\n"
     ]
    },
    {
     "data": {
      "application/json": {
       "ascii": false,
       "bar_format": null,
       "colour": null,
       "elapsed": 0.018523693084716797,
       "initial": 0,
       "n": 0,
       "ncols": null,
       "nrows": null,
       "postfix": null,
       "prefix": "Creating CSV from Arrow format",
       "rate": null,
       "total": 209,
       "unit": "ba",
       "unit_divisor": 1000,
       "unit_scale": false
      },
      "application/vnd.jupyter.widget-view+json": {
       "model_id": "a2979344075c43138ae1f528234b52c0",
       "version_major": 2,
       "version_minor": 0
      },
      "text/plain": [
       "Creating CSV from Arrow format:   0%|          | 0/209 [00:00<?, ?ba/s]"
      ]
     },
     "metadata": {},
     "output_type": "display_data"
    },
    {
     "name": "stderr",
     "output_type": "stream",
     "text": [
      "WARNING:datasets.arrow_dataset:Loading cached processed dataset at /home/mlynatom/.cache/huggingface/datasets/ctu-aic___csfever_nli/default/0.0.0/df4742c18cf2a45d4c0a64f1dede3a87613d6ef4c866af281749bb3061687700/cache-1b5279fcb4bc2e5c.arrow\n"
     ]
    },
    {
     "data": {
      "application/json": {
       "ascii": false,
       "bar_format": null,
       "colour": null,
       "elapsed": 0.015104532241821289,
       "initial": 0,
       "n": 0,
       "ncols": null,
       "nrows": null,
       "postfix": null,
       "prefix": "Creating CSV from Arrow format",
       "rate": null,
       "total": 10,
       "unit": "ba",
       "unit_divisor": 1000,
       "unit_scale": false
      },
      "application/vnd.jupyter.widget-view+json": {
       "model_id": "c7bd604d70cf438da4d39377d0b44460",
       "version_major": 2,
       "version_minor": 0
      },
      "text/plain": [
       "Creating CSV from Arrow format:   0%|          | 0/10 [00:00<?, ?ba/s]"
      ]
     },
     "metadata": {},
     "output_type": "display_data"
    },
    {
     "name": "stderr",
     "output_type": "stream",
     "text": [
      "WARNING:datasets.arrow_dataset:Loading cached processed dataset at /home/mlynatom/.cache/huggingface/datasets/ctu-aic___csfever_nli/default/0.0.0/df4742c18cf2a45d4c0a64f1dede3a87613d6ef4c866af281749bb3061687700/cache-e81ffa6a5d1a56ed.arrow\n"
     ]
    },
    {
     "data": {
      "application/json": {
       "ascii": false,
       "bar_format": null,
       "colour": null,
       "elapsed": 0.013602018356323242,
       "initial": 0,
       "n": 0,
       "ncols": null,
       "nrows": null,
       "postfix": null,
       "prefix": "Creating CSV from Arrow format",
       "rate": null,
       "total": 10,
       "unit": "ba",
       "unit_divisor": 1000,
       "unit_scale": false
      },
      "application/vnd.jupyter.widget-view+json": {
       "model_id": "0fad47000bc641c3b558f314131af936",
       "version_major": 2,
       "version_minor": 0
      },
      "text/plain": [
       "Creating CSV from Arrow format:   0%|          | 0/10 [00:00<?, ?ba/s]"
      ]
     },
     "metadata": {},
     "output_type": "display_data"
    },
    {
     "name": "stderr",
     "output_type": "stream",
     "text": [
      "WARNING:datasets.builder:Found cached dataset csfever_nli (/home/mlynatom/.cache/huggingface/datasets/ctu-aic___csfever_nli/default/0.0.0/df4742c18cf2a45d4c0a64f1dede3a87613d6ef4c866af281749bb3061687700)\n",
      "WARNING:datasets.builder:Found cached dataset csfever_nli (/home/mlynatom/.cache/huggingface/datasets/ctu-aic___csfever_nli/default/0.0.0/df4742c18cf2a45d4c0a64f1dede3a87613d6ef4c866af281749bb3061687700)\n",
      "WARNING:datasets.builder:Found cached dataset csfever_nli (/home/mlynatom/.cache/huggingface/datasets/ctu-aic___csfever_nli/default/0.0.0/df4742c18cf2a45d4c0a64f1dede3a87613d6ef4c866af281749bb3061687700)\n",
      "WARNING:datasets.arrow_dataset:Loading cached processed dataset at /home/mlynatom/.cache/huggingface/datasets/ctu-aic___csfever_nli/default/0.0.0/df4742c18cf2a45d4c0a64f1dede3a87613d6ef4c866af281749bb3061687700/cache-b8f101373f8b6322.arrow\n"
     ]
    },
    {
     "data": {
      "application/json": {
       "ascii": false,
       "bar_format": null,
       "colour": null,
       "elapsed": 0.014001131057739258,
       "initial": 0,
       "n": 0,
       "ncols": null,
       "nrows": null,
       "postfix": null,
       "prefix": "Creating CSV from Arrow format",
       "rate": null,
       "total": 209,
       "unit": "ba",
       "unit_divisor": 1000,
       "unit_scale": false
      },
      "application/vnd.jupyter.widget-view+json": {
       "model_id": "67444dbd7bf840b3803c83aa76910c90",
       "version_major": 2,
       "version_minor": 0
      },
      "text/plain": [
       "Creating CSV from Arrow format:   0%|          | 0/209 [00:00<?, ?ba/s]"
      ]
     },
     "metadata": {},
     "output_type": "display_data"
    },
    {
     "name": "stderr",
     "output_type": "stream",
     "text": [
      "WARNING:datasets.arrow_dataset:Loading cached processed dataset at /home/mlynatom/.cache/huggingface/datasets/ctu-aic___csfever_nli/default/0.0.0/df4742c18cf2a45d4c0a64f1dede3a87613d6ef4c866af281749bb3061687700/cache-d1548e77cbc6c21d.arrow\n"
     ]
    },
    {
     "data": {
      "application/json": {
       "ascii": false,
       "bar_format": null,
       "colour": null,
       "elapsed": 0.013619661331176758,
       "initial": 0,
       "n": 0,
       "ncols": null,
       "nrows": null,
       "postfix": null,
       "prefix": "Creating CSV from Arrow format",
       "rate": null,
       "total": 10,
       "unit": "ba",
       "unit_divisor": 1000,
       "unit_scale": false
      },
      "application/vnd.jupyter.widget-view+json": {
       "model_id": "a62333b1e5234dbd859d6c5fbce70d11",
       "version_major": 2,
       "version_minor": 0
      },
      "text/plain": [
       "Creating CSV from Arrow format:   0%|          | 0/10 [00:00<?, ?ba/s]"
      ]
     },
     "metadata": {},
     "output_type": "display_data"
    },
    {
     "name": "stderr",
     "output_type": "stream",
     "text": [
      "WARNING:datasets.arrow_dataset:Loading cached processed dataset at /home/mlynatom/.cache/huggingface/datasets/ctu-aic___csfever_nli/default/0.0.0/df4742c18cf2a45d4c0a64f1dede3a87613d6ef4c866af281749bb3061687700/cache-6053038cf8993cbc.arrow\n"
     ]
    },
    {
     "data": {
      "application/json": {
       "ascii": false,
       "bar_format": null,
       "colour": null,
       "elapsed": 0.014544010162353516,
       "initial": 0,
       "n": 0,
       "ncols": null,
       "nrows": null,
       "postfix": null,
       "prefix": "Creating CSV from Arrow format",
       "rate": null,
       "total": 10,
       "unit": "ba",
       "unit_divisor": 1000,
       "unit_scale": false
      },
      "application/vnd.jupyter.widget-view+json": {
       "model_id": "da0a30c3fbd34f36932a2d668a576a3b",
       "version_major": 2,
       "version_minor": 0
      },
      "text/plain": [
       "Creating CSV from Arrow format:   0%|          | 0/10 [00:00<?, ?ba/s]"
      ]
     },
     "metadata": {},
     "output_type": "display_data"
    }
   ],
   "source": [
    "from dataset_difficulty.augment import FEVERStandardTransformation, FEVERNullTransformation\n",
    "\n",
    "FEVERStandardTransformation(\"ctu-aic/csfever_nli\",\"/home/mlynatom/data/dataset_difficulty/augmentation/\").transform()\n",
    "FEVERNullTransformation(\"ctu-aic/csfever_nli\",\"/home/mlynatom/data/dataset_difficulty/augmentation/\").transform()"
   ]
  },
  {
   "cell_type": "markdown",
   "metadata": {},
   "source": [
    "## Train models"
   ]
  },
  {
   "cell_type": "markdown",
   "metadata": {},
   "source": [
    "## Estimate v-usable info"
   ]
  },
  {
   "cell_type": "code",
   "execution_count": null,
   "metadata": {},
   "outputs": [],
   "source": [
    "from dataset_difficulty.v_info import v_info\n",
    "\n",
    "v_info(\n",
    "  f\"./data/snli_test_std.csv\",\n",
    "  f\"{MODEL_DIR}/finetuned/bert-base-cased_snli_std2\",\n",
    "  f\"./data/snli_test_null.csv\", \n",
    "  f\"{MODEL_DIR/finetuned/bert-base-cased_snli_null\",\n",
    "  'bert-base-cased',\n",
    "  out_fn=f\"PVI/bert-base-cased_std2_test.csv\"\n",
    ")"
   ]
  }
 ],
 "metadata": {
  "kernelspec": {
   "display_name": "Python 3 (ipykernel)",
   "language": "python",
   "name": "python3"
  },
  "language_info": {
   "codemirror_mode": {
    "name": "ipython",
    "version": 3
   },
   "file_extension": ".py",
   "mimetype": "text/x-python",
   "name": "python",
   "nbconvert_exporter": "python",
   "pygments_lexer": "ipython3",
   "version": "3.9.6"
  },
  "orig_nbformat": 4
 },
 "nbformat": 4,
 "nbformat_minor": 2
}

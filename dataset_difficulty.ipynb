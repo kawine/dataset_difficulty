{
 "cells": [
  {
   "cell_type": "markdown",
   "metadata": {},
   "source": [
    "# 📊 Dataset difficulty - Jupyter notebook"
   ]
  },
  {
   "cell_type": "markdown",
   "metadata": {},
   "source": [
    "## Augmentation"
   ]
  },
  {
   "cell_type": "markdown",
   "metadata": {},
   "source": [
    "standard transformation only creates new columens *sentence1* and *sentence 2* for standardization, null transformation pass empty strings to these variables"
   ]
  },
  {
   "cell_type": "code",
   "execution_count": 1,
   "metadata": {},
   "outputs": [],
   "source": [
    "%load_ext autoreload\n",
    "%autoreload 2"
   ]
  },
  {
   "cell_type": "code",
   "execution_count": 2,
   "metadata": {},
   "outputs": [
    {
     "name": "stderr",
     "output_type": "stream",
     "text": [
      "2023-08-04 15:07:59.501429: E tensorflow/stream_executor/cuda/cuda_driver.cc:271] failed call to cuInit: CUDA_ERROR_NO_DEVICE: no CUDA-capable device is detected\n",
      "2023-08-04 15:07:59.501475: I tensorflow/stream_executor/cuda/cuda_diagnostics.cc:156] kernel driver does not appear to be running on this host (n04): /proc/driver/nvidia/version does not exist\n",
      "Found cached dataset csfever_v2 (/home/mlynatom/.cache/huggingface/datasets/ctu-aic___csfever_v2/original_nli/1.1.0/65d04138ecb653eab2159e390f6dd47529c74e27c36312ab922921e7cabc1e1c)\n",
      "Found cached dataset csfever_v2 (/home/mlynatom/.cache/huggingface/datasets/ctu-aic___csfever_v2/original_nli/1.1.0/65d04138ecb653eab2159e390f6dd47529c74e27c36312ab922921e7cabc1e1c)\n",
      "Found cached dataset csfever_v2 (/home/mlynatom/.cache/huggingface/datasets/ctu-aic___csfever_v2/original_nli/1.1.0/65d04138ecb653eab2159e390f6dd47529c74e27c36312ab922921e7cabc1e1c)\n",
      "WARNING:datasets.arrow_dataset:Loading cached processed dataset at /home/mlynatom/.cache/huggingface/datasets/ctu-aic___csfever_v2/original_nli/1.1.0/65d04138ecb653eab2159e390f6dd47529c74e27c36312ab922921e7cabc1e1c/cache-8056c5491f6bc25f.arrow\n"
     ]
    },
    {
     "data": {
      "application/json": {
       "ascii": false,
       "bar_format": null,
       "colour": null,
       "elapsed": 0.03733968734741211,
       "initial": 0,
       "n": 0,
       "ncols": null,
       "nrows": null,
       "postfix": null,
       "prefix": "Creating CSV from Arrow format",
       "rate": null,
       "total": 119,
       "unit": "ba",
       "unit_divisor": 1000,
       "unit_scale": false
      },
      "application/vnd.jupyter.widget-view+json": {
       "model_id": "58e7908554ff4e96a710ec19af475b1c",
       "version_major": 2,
       "version_minor": 0
      },
      "text/plain": [
       "Creating CSV from Arrow format:   0%|          | 0/119 [00:00<?, ?ba/s]"
      ]
     },
     "metadata": {},
     "output_type": "display_data"
    },
    {
     "name": "stderr",
     "output_type": "stream",
     "text": [
      "WARNING:datasets.arrow_dataset:Loading cached processed dataset at /home/mlynatom/.cache/huggingface/datasets/ctu-aic___csfever_v2/original_nli/1.1.0/65d04138ecb653eab2159e390f6dd47529c74e27c36312ab922921e7cabc1e1c/cache-1fe8148827507c61.arrow\n"
     ]
    },
    {
     "data": {
      "application/json": {
       "ascii": false,
       "bar_format": null,
       "colour": null,
       "elapsed": 0.014042854309082031,
       "initial": 0,
       "n": 0,
       "ncols": null,
       "nrows": null,
       "postfix": null,
       "prefix": "Creating CSV from Arrow format",
       "rate": null,
       "total": 8,
       "unit": "ba",
       "unit_divisor": 1000,
       "unit_scale": false
      },
      "application/vnd.jupyter.widget-view+json": {
       "model_id": "f3d7f375f0e049eca7be525bacc0075a",
       "version_major": 2,
       "version_minor": 0
      },
      "text/plain": [
       "Creating CSV from Arrow format:   0%|          | 0/8 [00:00<?, ?ba/s]"
      ]
     },
     "metadata": {},
     "output_type": "display_data"
    },
    {
     "name": "stderr",
     "output_type": "stream",
     "text": [
      "WARNING:datasets.arrow_dataset:Loading cached processed dataset at /home/mlynatom/.cache/huggingface/datasets/ctu-aic___csfever_v2/original_nli/1.1.0/65d04138ecb653eab2159e390f6dd47529c74e27c36312ab922921e7cabc1e1c/cache-a7a056b7873264f3.arrow\n"
     ]
    },
    {
     "data": {
      "application/json": {
       "ascii": false,
       "bar_format": null,
       "colour": null,
       "elapsed": 0.013964414596557617,
       "initial": 0,
       "n": 0,
       "ncols": null,
       "nrows": null,
       "postfix": null,
       "prefix": "Creating CSV from Arrow format",
       "rate": null,
       "total": 8,
       "unit": "ba",
       "unit_divisor": 1000,
       "unit_scale": false
      },
      "application/vnd.jupyter.widget-view+json": {
       "model_id": "5209cc2f2c224d64bec666465d108737",
       "version_major": 2,
       "version_minor": 0
      },
      "text/plain": [
       "Creating CSV from Arrow format:   0%|          | 0/8 [00:00<?, ?ba/s]"
      ]
     },
     "metadata": {},
     "output_type": "display_data"
    },
    {
     "name": "stderr",
     "output_type": "stream",
     "text": [
      "WARNING:datasets.builder:Found cached dataset csfever_v2 (/home/mlynatom/.cache/huggingface/datasets/ctu-aic___csfever_v2/original_nli/1.1.0/65d04138ecb653eab2159e390f6dd47529c74e27c36312ab922921e7cabc1e1c)\n",
      "WARNING:datasets.builder:Found cached dataset csfever_v2 (/home/mlynatom/.cache/huggingface/datasets/ctu-aic___csfever_v2/original_nli/1.1.0/65d04138ecb653eab2159e390f6dd47529c74e27c36312ab922921e7cabc1e1c)\n",
      "WARNING:datasets.builder:Found cached dataset csfever_v2 (/home/mlynatom/.cache/huggingface/datasets/ctu-aic___csfever_v2/original_nli/1.1.0/65d04138ecb653eab2159e390f6dd47529c74e27c36312ab922921e7cabc1e1c)\n",
      "WARNING:datasets.arrow_dataset:Loading cached processed dataset at /home/mlynatom/.cache/huggingface/datasets/ctu-aic___csfever_v2/original_nli/1.1.0/65d04138ecb653eab2159e390f6dd47529c74e27c36312ab922921e7cabc1e1c/cache-006e344052bb08b2.arrow\n"
     ]
    },
    {
     "data": {
      "application/json": {
       "ascii": false,
       "bar_format": null,
       "colour": null,
       "elapsed": 0.013371706008911133,
       "initial": 0,
       "n": 0,
       "ncols": null,
       "nrows": null,
       "postfix": null,
       "prefix": "Creating CSV from Arrow format",
       "rate": null,
       "total": 119,
       "unit": "ba",
       "unit_divisor": 1000,
       "unit_scale": false
      },
      "application/vnd.jupyter.widget-view+json": {
       "model_id": "055eb7ea3a444616a6442bc30dff73e0",
       "version_major": 2,
       "version_minor": 0
      },
      "text/plain": [
       "Creating CSV from Arrow format:   0%|          | 0/119 [00:00<?, ?ba/s]"
      ]
     },
     "metadata": {},
     "output_type": "display_data"
    },
    {
     "name": "stderr",
     "output_type": "stream",
     "text": [
      "WARNING:datasets.arrow_dataset:Loading cached processed dataset at /home/mlynatom/.cache/huggingface/datasets/ctu-aic___csfever_v2/original_nli/1.1.0/65d04138ecb653eab2159e390f6dd47529c74e27c36312ab922921e7cabc1e1c/cache-f98fd0942b4ff19a.arrow\n"
     ]
    },
    {
     "data": {
      "application/json": {
       "ascii": false,
       "bar_format": null,
       "colour": null,
       "elapsed": 0.01381540298461914,
       "initial": 0,
       "n": 0,
       "ncols": null,
       "nrows": null,
       "postfix": null,
       "prefix": "Creating CSV from Arrow format",
       "rate": null,
       "total": 8,
       "unit": "ba",
       "unit_divisor": 1000,
       "unit_scale": false
      },
      "application/vnd.jupyter.widget-view+json": {
       "model_id": "cbde0dfd15b54d628460cbd077e590ef",
       "version_major": 2,
       "version_minor": 0
      },
      "text/plain": [
       "Creating CSV from Arrow format:   0%|          | 0/8 [00:00<?, ?ba/s]"
      ]
     },
     "metadata": {},
     "output_type": "display_data"
    },
    {
     "name": "stderr",
     "output_type": "stream",
     "text": [
      "WARNING:datasets.arrow_dataset:Loading cached processed dataset at /home/mlynatom/.cache/huggingface/datasets/ctu-aic___csfever_v2/original_nli/1.1.0/65d04138ecb653eab2159e390f6dd47529c74e27c36312ab922921e7cabc1e1c/cache-9be092ec69ba34fc.arrow\n"
     ]
    },
    {
     "data": {
      "application/json": {
       "ascii": false,
       "bar_format": null,
       "colour": null,
       "elapsed": 0.013031482696533203,
       "initial": 0,
       "n": 0,
       "ncols": null,
       "nrows": null,
       "postfix": null,
       "prefix": "Creating CSV from Arrow format",
       "rate": null,
       "total": 8,
       "unit": "ba",
       "unit_divisor": 1000,
       "unit_scale": false
      },
      "application/vnd.jupyter.widget-view+json": {
       "model_id": "0fa2d752336e41eb8a4b11ff1a703a0d",
       "version_major": 2,
       "version_minor": 0
      },
      "text/plain": [
       "Creating CSV from Arrow format:   0%|          | 0/8 [00:00<?, ?ba/s]"
      ]
     },
     "metadata": {},
     "output_type": "display_data"
    }
   ],
   "source": [
    "from dataset_difficulty.augment import FEVERStandardTransformation, FEVERNullTransformation\n",
    "\n",
    "FEVERStandardTransformation(\"ctu-aic/csfever_v2\",\"/home/mlynatom/data/dataset_difficulty/augmentation/csfever_v2/\", dataset_subset=\"original_nli\").transform()\n",
    "FEVERNullTransformation(\"ctu-aic/csfever_v2\",\"/home/mlynatom/data/dataset_difficulty/augmentation/csfever_v2/\", dataset_subset=\"original_nli\").transform()"
   ]
  },
  {
   "cell_type": "markdown",
   "metadata": {},
   "source": [
    "## Train models"
   ]
  },
  {
   "cell_type": "markdown",
   "metadata": {},
   "source": [
    "Do using other finetuning scripts"
   ]
  },
  {
   "cell_type": "markdown",
   "metadata": {},
   "source": [
    "## Estimate v-usable info"
   ]
  },
  {
   "cell_type": "code",
   "execution_count": null,
   "metadata": {},
   "outputs": [],
   "source": [
    "from dataset_difficulty.v_info import v_info\n",
    "\n",
    "v_info(\"/home/mlynatom/data/dataset_difficulty/augmentation/csfever_v2/fever_test_std.csv\", \n",
    "       \"ctu-aic/xlm-roberta-large-squad2-csfever_v2-f1\", \n",
    "       \"/home/mlynatom/data/dataset_difficulty/augmentation/csfever_v2/fever_test_null.csv\",\n",
    "       \"ctu-aic/xlm-roberta-large-squad2-csfever_v2-f1\",\n",
    "       \"ctu-aic/xlm-roberta-large-squad2-csfever_v2-f1\",\n",
    "       \"/home/mlynatom/data/dataset_difficulty/PVI/fever_test_null.csv\",\n",
    "       \"sentence1\",\n",
    "       \"sentence2\")"
   ]
  }
 ],
 "metadata": {
  "kernelspec": {
   "display_name": "Python 3 (ipykernel)",
   "language": "python",
   "name": "python3"
  },
  "language_info": {
   "codemirror_mode": {
    "name": "ipython",
    "version": 3
   },
   "file_extension": ".py",
   "mimetype": "text/x-python",
   "name": "python",
   "nbconvert_exporter": "python",
   "pygments_lexer": "ipython3",
   "version": "3.9.6"
  },
  "orig_nbformat": 4
 },
 "nbformat": 4,
 "nbformat_minor": 2
}
